{
 "cells": [
  {
   "cell_type": "code",
   "execution_count": 1,
   "metadata": {},
   "outputs": [],
   "source": [
    "%load_ext autoreload\n",
    "%autoreload 2\n",
    "import pandas as pd\n",
    "import numpy as np\n",
    "import requests\n",
    "from datetime import datetime\n",
    "import json\n",
    "from PyForks import Region\n",
    "from bs4 import BeautifulSoup"
   ]
  },
  {
   "cell_type": "code",
   "execution_count": 2,
   "metadata": {},
   "outputs": [],
   "source": [
    "r = requests.get('https://www.trailforks.com/api/1/docs/?api_key=docs')\n",
    "r_json = r.json()\n",
    "paths = [x['path'] for x in r_json['apis']]\n",
    "apis = []\n",
    "\n",
    "\n",
    "for path in paths:\n",
    "    link = f\"https://www.trailforks.com/api/1/docs{path}?api_key=docs\"\n",
    "    r = requests.get(link)\n",
    "    r_json = r.json()\n",
    "    api = r_json['apis'][0]\n",
    "    apis.append(api)\n"
   ]
  },
  {
   "cell_type": "code",
   "execution_count": 3,
   "metadata": {},
   "outputs": [],
   "source": [
    "final = {\n",
    "    \"apiVerison\": \"1.0.0\",\n",
    "    \"swaggerVersion\": \"1.2\",\n",
    "    \"basePath:\": \"https://www.trailforks.com/api/1/\",\n",
    "    \"apis\": apis\n",
    "}\n",
    "\n",
    "with open('swagger.json', 'w') as fp:\n",
    "    json.dump(final, fp)"
   ]
  },
  {
   "cell_type": "code",
   "execution_count": null,
   "metadata": {},
   "outputs": [],
   "source": []
  }
 ],
 "metadata": {
  "kernelspec": {
   "display_name": ".venv_win",
   "language": "python",
   "name": "python3"
  },
  "language_info": {
   "codemirror_mode": {
    "name": "ipython",
    "version": 3
   },
   "file_extension": ".py",
   "mimetype": "text/x-python",
   "name": "python",
   "nbconvert_exporter": "python",
   "pygments_lexer": "ipython3",
   "version": "3.10.11"
  },
  "orig_nbformat": 4,
  "vscode": {
   "interpreter": {
    "hash": "1077a33e857235084b0f6bffabccf20f32c5d4ea18fed02913686307942163b6"
   }
  }
 },
 "nbformat": 4,
 "nbformat_minor": 2
}
