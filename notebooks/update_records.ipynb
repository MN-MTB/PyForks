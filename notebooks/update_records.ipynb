{
 "cells": [
  {
   "cell_type": "code",
   "execution_count": null,
   "metadata": {},
   "outputs": [],
   "source": [
    "%load_ext autoreload\n",
    "%autoreload 2\n",
    "import pandas as pd\n",
    "import numpy as np\n",
    "import requests\n",
    "from datetime import datetime\n",
    "import json\n",
    "from PyForks import Region\n",
    "import pyarrow\n",
    "from configparser import ConfigParser"
   ]
  },
  {
   "cell_type": "code",
   "execution_count": null,
   "metadata": {},
   "outputs": [],
   "source": [
    "parser = ConfigParser()\n",
    "parser.read('../PyForks/_test/secrets.ini')\n",
    "app_id = parser.get('trailforks', 'app_id')\n",
    "app_secret = parser.get('trailforks', 'app_secret')\n",
    "r = Region(app_id=app_id, app_secret=app_secret)"
   ]
  },
  {
   "cell_type": "code",
   "execution_count": null,
   "metadata": {},
   "outputs": [],
   "source": [
    "df = r.get_all_trailforks_regions()"
   ]
  },
  {
   "cell_type": "code",
   "execution_count": null,
   "metadata": {},
   "outputs": [],
   "source": [
    "df.drop_duplicates(subset=['alias'], inplace=True)\n",
    "df.to_parquet(\"./PyForks/data/region_data.parquet\", engine='pyarrow')"
   ]
  },
  {
   "cell_type": "code",
   "execution_count": null,
   "metadata": {},
   "outputs": [],
   "source": [
    "def get_region_link(row) -> str:\n",
    "    uri_name = row['region_uri_name']\n",
    "    link = f\"https://www.trailforks.com/region/{uri_name}\"\n",
    "    return link\n",
    "\n",
    "def get_region_name(row) -> str:\n",
    "    name = row['name']\n",
    "    state = row['state']\n",
    "    country = row['country']\n",
    "    return f\"{name}, {state}, {country}\""
   ]
  },
  {
   "cell_type": "code",
   "execution_count": null,
   "metadata": {},
   "outputs": [],
   "source": [
    "t = df.rename(columns={\n",
    "    \"title\":\"name\", \n",
    "    \"alias\":\"region_uri_name\", \n",
    "    \"prov_title\":\"state\", \n",
    "    \"city_title\":\"city\",\n",
    "    \"country_title\":\"country\"\n",
    "    })\n",
    "\n",
    "t['region_link'] = t.apply(get_region_link, axis=1)\n",
    "t['full_region_name'] = t.apply(get_region_name, axis=1)\n",
    "t.to_json(\"trailforks_regions.json\", orient='records')\n",
    "\n",
    "regions = t.full_region_name.to_list()\n",
    "with open(\"region_names.json\", \"w\") as f:\n",
    "    json.dump(regions, f)"
   ]
  },
  {
   "cell_type": "code",
   "execution_count": null,
   "metadata": {},
   "outputs": [],
   "source": []
  }
 ],
 "metadata": {
  "kernelspec": {
   "display_name": ".venv_win",
   "language": "python",
   "name": "python3"
  },
  "language_info": {
   "codemirror_mode": {
    "name": "ipython",
    "version": 3
   },
   "file_extension": ".py",
   "mimetype": "text/x-python",
   "name": "python",
   "nbconvert_exporter": "python",
   "pygments_lexer": "ipython3",
   "version": "3.10.11"
  },
  "orig_nbformat": 4
 },
 "nbformat": 4,
 "nbformat_minor": 2
}
